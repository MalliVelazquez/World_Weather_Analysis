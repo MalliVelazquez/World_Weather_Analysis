{
 "cells": [
  {
   "cell_type": "code",
   "execution_count": 1,
   "id": "93bc333f",
   "metadata": {},
   "outputs": [],
   "source": [
    "import pandas as pd\n",
    "import numpy as np\n",
    "import requests\n",
    "import time"
   ]
  },
  {
   "cell_type": "code",
   "execution_count": 2,
   "id": "0d6fec45",
   "metadata": {},
   "outputs": [],
   "source": [
    "from citipy import citipy\n",
    "from config import weather_api_key\n",
    "url = \"http://api.openweathermap.org/data/2.5/weather?units=Imperial&appid=\" + weather_api_key"
   ]
  },
  {
   "cell_type": "code",
   "execution_count": 3,
   "id": "2a6f8983",
   "metadata": {},
   "outputs": [
    {
     "data": {
      "text/plain": [
       "[(-51.88223329071732, 35.241200205428896),\n",
       " (30.239904215101333, -18.993172902307407),\n",
       " (25.979034626379516, 92.23628435777044),\n",
       " (71.89553354207055, 141.8877556969631),\n",
       " (-66.13705898485465, 6.604967215922898),\n",
       " (37.7631657942338, -86.80917292358029),\n",
       " (32.189319199302815, -79.14373180193338),\n",
       " (69.0405369292395, 39.517400574525965),\n",
       " (-35.67620197709166, 20.46863801607296),\n",
       " (27.431563127891593, -173.06494833800397)]"
      ]
     },
     "execution_count": 3,
     "metadata": {},
     "output_type": "execute_result"
    }
   ],
   "source": [
    "lats = np.random.uniform(low=-90.000, high=90.000, size=2000)\n",
    "lngs = np.random.uniform(low=-180.000, high=180.000, size=2000)\n",
    "coordinates = list(zip(lats, lngs))\n",
    "coordinates[0:10]"
   ]
  },
  {
   "cell_type": "code",
   "execution_count": null,
   "id": "2711060b",
   "metadata": {},
   "outputs": [],
   "source": []
  }
 ],
 "metadata": {
  "kernelspec": {
   "display_name": "Python 3 (ipykernel)",
   "language": "python",
   "name": "python3"
  },
  "language_info": {
   "codemirror_mode": {
    "name": "ipython",
    "version": 3
   },
   "file_extension": ".py",
   "mimetype": "text/x-python",
   "name": "python",
   "nbconvert_exporter": "python",
   "pygments_lexer": "ipython3",
   "version": "3.9.7"
  }
 },
 "nbformat": 4,
 "nbformat_minor": 5
}
